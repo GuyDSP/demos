{
 "cells": [
  {
   "cell_type": "markdown",
   "id": "07063a6b-ec55-49bb-91ee-b802619bce29",
   "metadata": {},
   "source": [
    "# Parametric geometry\n",
    "\n",
    "## Why?\n",
    "\n",
    "Geometrical representation of the product is useful to understand the impact of a design process on physical parts, but not only.\n",
    "When running several computations/simulations of various physics on the product, they are all related to the same object and they need access to the geometry to perform relevant evaluations.\n",
    "\n",
    "Most of the time, the geometry is the first source of coupling between multi-physics simulations.\n",
    "\n",
    "## Example\n",
    "\n",
    "Let's keep a simple example: the CPU fan. We need the geometry to evalute the mass flow blown by the fan on the heat exchanger.\n",
    "\n",
    "![](../images/fan.png)\n",
    "\n",
    "### The blade\n",
    "\n",
    "We need to have a fairly simple parametric fan blade geometry."
   ]
  },
  {
   "cell_type": "code",
   "execution_count": 1,
   "id": "19ad0c36-5c76-44b2-ba9a-51878c8e9330",
   "metadata": {},
   "outputs": [],
   "source": [
    "from twiinit_demos.cpu.systems import ParametricBladeGeometry\n",
    "\n",
    "p_blade = ParametricBladeGeometry(\"blade\")"
   ]
  },
  {
   "cell_type": "code",
   "execution_count": 2,
   "id": "02ea9acd-652c-4c4e-a7ba-6e0634495b4c",
   "metadata": {},
   "outputs": [
    {
     "data": {
      "application/vnd.jupyter.widget-view+json": {
       "model_id": "10c63f1957c443318c70fd623dcb51f4",
       "version_major": 2,
       "version_minor": 0
      },
      "text/plain": [
       "Renderer(background='pink', camera=PerspectiveCamera(aspect=2.25, children=(DirectionalLight(intensity=0.3, po…"
      ]
     },
     "execution_count": 2,
     "metadata": {},
     "output_type": "execute_result"
    }
   ],
   "source": [
    "from pyoccad.render import JupyterThreeJSRenderer\n",
    "\n",
    "render = JupyterThreeJSRenderer(view_size=(1800, 800), camera_target=(1., 0., 0.), camera_position=(-2., 0., 0.))\n",
    "\n",
    "render_row = render.add_shape(p_blade.geometry, uid=\"blade\", face_color=\"#156289\", opacity=1.)\n",
    "render_row.scale = (10., 10., 10.)\n",
    "render.show()"
   ]
  },
  {
   "cell_type": "code",
   "execution_count": 3,
   "id": "d00da295-6606-4515-b88a-14bef8351c48",
   "metadata": {},
   "outputs": [],
   "source": [
    "p_blade.hub_to_tip_ratio = 0.3\n",
    "p_blade.height_over_chord = 1.5\n",
    "p_blade.q_factor = 1.\n",
    "p_blade.max_thickness_position = 0.3\n",
    "p_blade.max_thickness_ratio = 0.1\n",
    "p_blade.leading_tension = 0.1\n",
    "p_blade.trailing_tension = 0.1\n",
    "p_blade.inlet_angle = 40.\n",
    "p_blade.exit_angle = 10.\n",
    "p_blade.stacking_parameter = 0.3\n",
    "p_blade.stacking_angle = 0.\n",
    "p_blade.swirl = 0.\n",
    "\n",
    "p_blade.run_drivers()\n",
    "\n",
    "render.update_shape(p_blade.geometry, uid=\"blade\");"
   ]
  },
  {
   "cell_type": "markdown",
   "id": "294c5096-7537-4a4c-a693-741a2219107b",
   "metadata": {},
   "source": [
    "It looks promising!"
   ]
  },
  {
   "cell_type": "code",
   "execution_count": 4,
   "id": "23e1afd4-942f-4f4f-90eb-43cea30b40b2",
   "metadata": {},
   "outputs": [],
   "source": [
    "from twiinit_demos.cpu.systems.fan_geometry import FanGeometry\n",
    "\n",
    "fan = FanGeometry('fan')\n",
    "rotor = fan.rotor\n",
    "blade = rotor.blade\n",
    "casing = fan.casing"
   ]
  },
  {
   "cell_type": "code",
   "execution_count": 5,
   "id": "90d20baa-296f-4b6a-b5c8-c84cf7408124",
   "metadata": {},
   "outputs": [
    {
     "data": {
      "application/vnd.jupyter.widget-view+json": {
       "model_id": "63d3925437e74b6b9bdeb9ab6bb80580",
       "version_major": 2,
       "version_minor": 0
      },
      "text/plain": [
       "HBox(children=(Renderer(background='pink', camera=OrthographicCamera(bottom=-3.0, children=(DirectionalLight(i…"
      ]
     },
     "execution_count": 5,
     "metadata": {},
     "output_type": "execute_result"
    }
   ],
   "source": [
    "from pyoccad.render import JupyterThreeJSRenderer, JupyterThreeJSRenderer2d\n",
    "from twiinit_demos.cpu.utils.display import compare_with_image\n",
    "\n",
    "render2d = JupyterThreeJSRenderer2d(view_size=(600, 600), camera_target=(1., 0., 0.), camera_position=(-1.5, 0., 0.))\n",
    "render_row2d = render2d.add_shape(fan.geometry.shape, uid=\"blade\", face_color=\"#156289\", opacity=1., plot_edges=False)\n",
    "\n",
    "render = JupyterThreeJSRenderer(view_size=(600, 600), camera_target=(1., 0., 0.), camera_position=(-1.5, 0., 0.))\n",
    "render_row = render.add_shape(fan.geometry.shape, uid=\"blade\", face_color=\"#156289\", opacity=1., plot_edges=False)\n",
    "\n",
    "compare_with_image(fan, render2d, render)"
   ]
  },
  {
   "cell_type": "code",
   "execution_count": 6,
   "id": "b61809f9-df8c-4d48-b3a3-25d984689abe",
   "metadata": {
    "tags": []
   },
   "outputs": [
    {
     "ename": "SystemError",
     "evalue": "<built-in function Handle_Geom_Plane_DownCast> returned a result with an exception set",
     "output_type": "error",
     "traceback": [
      "\u001b[1;31m---------------------------------------------------------------------------\u001b[0m",
      "\u001b[1;31mRuntimeError\u001b[0m                              Traceback (most recent call last)",
      "\u001b[1;31mRuntimeError\u001b[0m: Failed to downcast to Geom_Plane.",
      "\nThe above exception was the direct cause of the following exception:\n",
      "\u001b[1;31mSystemError\u001b[0m                               Traceback (most recent call last)",
      "\u001b[1;32m~\\AppData\\Local\\Temp\\ipykernel_25004\\80225234.py\u001b[0m in \u001b[0;36m?\u001b[1;34m()\u001b[0m\n\u001b[0;32m     22\u001b[0m \u001b[0mfan\u001b[0m\u001b[1;33m.\u001b[0m\u001b[0mtip_radius\u001b[0m \u001b[1;33m=\u001b[0m \u001b[1;36m0.1\u001b[0m \u001b[1;33m/\u001b[0m \u001b[0mf\u001b[0m\u001b[1;33m\u001b[0m\u001b[1;33m\u001b[0m\u001b[0m\n\u001b[0;32m     23\u001b[0m \u001b[0mfan\u001b[0m\u001b[1;33m.\u001b[0m\u001b[0mhub_to_tip_ratio\u001b[0m \u001b[1;33m=\u001b[0m \u001b[1;36m0.4\u001b[0m\u001b[1;33m\u001b[0m\u001b[1;33m\u001b[0m\u001b[0m\n\u001b[0;32m     24\u001b[0m \u001b[0mfan\u001b[0m\u001b[1;33m.\u001b[0m\u001b[0mfactor\u001b[0m \u001b[1;33m=\u001b[0m \u001b[1;36m10.\u001b[0m \u001b[1;33m*\u001b[0m \u001b[0mf\u001b[0m \u001b[1;33m*\u001b[0m \u001b[1;36m1.\u001b[0m\u001b[1;33m\u001b[0m\u001b[1;33m\u001b[0m\u001b[0m\n\u001b[0;32m     25\u001b[0m \u001b[1;33m\u001b[0m\u001b[0m\n\u001b[1;32m---> 26\u001b[1;33m \u001b[0mfan\u001b[0m\u001b[1;33m.\u001b[0m\u001b[0mrun_drivers\u001b[0m\u001b[1;33m(\u001b[0m\u001b[1;33m)\u001b[0m\u001b[1;33m\u001b[0m\u001b[1;33m\u001b[0m\u001b[0m\n\u001b[0m\u001b[0;32m     27\u001b[0m \u001b[1;33m\u001b[0m\u001b[0m\n\u001b[0;32m     28\u001b[0m \u001b[0mrender_row\u001b[0m\u001b[1;33m.\u001b[0m\u001b[0mlinear_deflection\u001b[0m \u001b[1;33m=\u001b[0m \u001b[1;36m0.15\u001b[0m\u001b[1;33m\u001b[0m\u001b[1;33m\u001b[0m\u001b[0m\n\u001b[0;32m     29\u001b[0m \u001b[0mrender_row\u001b[0m\u001b[1;33m.\u001b[0m\u001b[0mangular_deflection\u001b[0m \u001b[1;33m=\u001b[0m \u001b[1;36m0.15\u001b[0m\u001b[1;33m\u001b[0m\u001b[1;33m\u001b[0m\u001b[0m\n",
      "\u001b[1;32m~\\micromamba\\envs\\twiinit-demos\\Lib\\site-packages\\cosapp\\systems\\system.py\u001b[0m in \u001b[0;36m?\u001b[1;34m(self)\u001b[0m\n\u001b[0;32m   2422\u001b[0m                     \u001b[0mlogger\u001b[0m\u001b[1;33m.\u001b[0m\u001b[0mdebug\u001b[0m\u001b[1;33m(\u001b[0m\u001b[1;33mf\"\u001b[0m\u001b[1;33mCall driver \u001b[0m\u001b[1;33m{\u001b[0m\u001b[0mdriver\u001b[0m\u001b[1;33m.\u001b[0m\u001b[0mname\u001b[0m\u001b[1;33m}\u001b[0m\u001b[1;33m.run_once on \u001b[0m\u001b[1;33m{\u001b[0m\u001b[0mself\u001b[0m\u001b[1;33m.\u001b[0m\u001b[0mname\u001b[0m\u001b[1;33m}\u001b[0m\u001b[1;33m\"\u001b[0m\u001b[1;33m)\u001b[0m\u001b[1;33m\u001b[0m\u001b[1;33m\u001b[0m\u001b[0m\n\u001b[0;32m   2423\u001b[0m                     \u001b[0mdriver\u001b[0m\u001b[1;33m.\u001b[0m\u001b[0mrun_once\u001b[0m\u001b[1;33m(\u001b[0m\u001b[1;33m)\u001b[0m\u001b[1;33m\u001b[0m\u001b[1;33m\u001b[0m\u001b[0m\n\u001b[0;32m   2424\u001b[0m \u001b[1;33m\u001b[0m\u001b[0m\n\u001b[0;32m   2425\u001b[0m             \u001b[1;32melse\u001b[0m\u001b[1;33m:\u001b[0m\u001b[1;33m\u001b[0m\u001b[1;33m\u001b[0m\u001b[0m\n\u001b[1;32m-> 2426\u001b[1;33m                 \u001b[0mself\u001b[0m\u001b[1;33m.\u001b[0m\u001b[0mrun_children_drivers\u001b[0m\u001b[1;33m(\u001b[0m\u001b[1;33m)\u001b[0m\u001b[1;33m\u001b[0m\u001b[1;33m\u001b[0m\u001b[0m\n\u001b[0m\u001b[0;32m   2427\u001b[0m \u001b[1;33m\u001b[0m\u001b[0m\n\u001b[0;32m   2428\u001b[0m             \u001b[1;32mif\u001b[0m \u001b[0mis_master\u001b[0m\u001b[1;33m:\u001b[0m\u001b[1;33m\u001b[0m\u001b[1;33m\u001b[0m\u001b[0m\n\u001b[0;32m   2429\u001b[0m                 \u001b[0mlogger\u001b[0m\u001b[1;33m.\u001b[0m\u001b[0mdebug\u001b[0m\u001b[1;33m(\u001b[0m\u001b[1;34m\"Start clean_run recursive calls.\"\u001b[0m\u001b[1;33m)\u001b[0m\u001b[1;33m\u001b[0m\u001b[1;33m\u001b[0m\u001b[0m\n",
      "\u001b[1;32m~\\micromamba\\envs\\twiinit-demos\\Lib\\site-packages\\cosapp\\systems\\system.py\u001b[0m in \u001b[0;36m?\u001b[1;34m(self)\u001b[0m\n\u001b[0;32m   2460\u001b[0m                             \u001b[1;32mfor\u001b[0m \u001b[0mconnector\u001b[0m \u001b[1;32min\u001b[0m \u001b[0mself\u001b[0m\u001b[1;33m.\u001b[0m\u001b[0m__child_connectors\u001b[0m\u001b[1;33m.\u001b[0m\u001b[0mget\u001b[0m\u001b[1;33m(\u001b[0m\u001b[0mchild\u001b[0m\u001b[1;33m.\u001b[0m\u001b[0mname\u001b[0m\u001b[1;33m,\u001b[0m \u001b[1;33m[\u001b[0m\u001b[1;33m]\u001b[0m\u001b[1;33m)\u001b[0m\u001b[1;33m:\u001b[0m\u001b[1;33m\u001b[0m\u001b[1;33m\u001b[0m\u001b[0m\n\u001b[0;32m   2461\u001b[0m                                 \u001b[0mconnector\u001b[0m\u001b[1;33m.\u001b[0m\u001b[0mtransfer\u001b[0m\u001b[1;33m(\u001b[0m\u001b[1;33m)\u001b[0m\u001b[1;33m\u001b[0m\u001b[1;33m\u001b[0m\u001b[0m\n\u001b[0;32m   2462\u001b[0m                             \u001b[1;31m# Execute sub-system\u001b[0m\u001b[1;33m\u001b[0m\u001b[1;33m\u001b[0m\u001b[0m\n\u001b[0;32m   2463\u001b[0m                             \u001b[0mlogger\u001b[0m\u001b[1;33m.\u001b[0m\u001b[0mdebug\u001b[0m\u001b[1;33m(\u001b[0m\u001b[1;33mf\"\u001b[0m\u001b[1;33mCall \u001b[0m\u001b[1;33m{\u001b[0m\u001b[0mself\u001b[0m\u001b[1;33m.\u001b[0m\u001b[0mname\u001b[0m\u001b[1;33m}\u001b[0m\u001b[1;33m.\u001b[0m\u001b[1;33m{\u001b[0m\u001b[0mchild\u001b[0m\u001b[1;33m.\u001b[0m\u001b[0mname\u001b[0m\u001b[1;33m}\u001b[0m\u001b[1;33m.run_once()\u001b[0m\u001b[1;33m\"\u001b[0m\u001b[1;33m)\u001b[0m\u001b[1;33m\u001b[0m\u001b[1;33m\u001b[0m\u001b[0m\n\u001b[1;32m-> 2464\u001b[1;33m                             \u001b[0mchild\u001b[0m\u001b[1;33m.\u001b[0m\u001b[0mrun_drivers\u001b[0m\u001b[1;33m(\u001b[0m\u001b[1;33m)\u001b[0m\u001b[1;33m\u001b[0m\u001b[1;33m\u001b[0m\u001b[0m\n\u001b[0m\u001b[0;32m   2465\u001b[0m                             \u001b[0many_dirty_child\u001b[0m \u001b[1;33m|=\u001b[0m \u001b[1;32mnot\u001b[0m \u001b[0mchild\u001b[0m\u001b[1;33m.\u001b[0m\u001b[0mis_clean\u001b[0m\u001b[1;33m(\u001b[0m\u001b[1;33m)\u001b[0m\u001b[1;33m\u001b[0m\u001b[1;33m\u001b[0m\u001b[0m\n\u001b[0;32m   2466\u001b[0m \u001b[1;33m\u001b[0m\u001b[0m\n\u001b[0;32m   2467\u001b[0m                         \u001b[1;31m# Pull values from subsystems\u001b[0m\u001b[1;33m\u001b[0m\u001b[1;33m\u001b[0m\u001b[0m\n",
      "\u001b[1;32m~\\micromamba\\envs\\twiinit-demos\\Lib\\site-packages\\cosapp\\systems\\system.py\u001b[0m in \u001b[0;36m?\u001b[1;34m(self)\u001b[0m\n\u001b[0;32m   2422\u001b[0m                     \u001b[0mlogger\u001b[0m\u001b[1;33m.\u001b[0m\u001b[0mdebug\u001b[0m\u001b[1;33m(\u001b[0m\u001b[1;33mf\"\u001b[0m\u001b[1;33mCall driver \u001b[0m\u001b[1;33m{\u001b[0m\u001b[0mdriver\u001b[0m\u001b[1;33m.\u001b[0m\u001b[0mname\u001b[0m\u001b[1;33m}\u001b[0m\u001b[1;33m.run_once on \u001b[0m\u001b[1;33m{\u001b[0m\u001b[0mself\u001b[0m\u001b[1;33m.\u001b[0m\u001b[0mname\u001b[0m\u001b[1;33m}\u001b[0m\u001b[1;33m\"\u001b[0m\u001b[1;33m)\u001b[0m\u001b[1;33m\u001b[0m\u001b[1;33m\u001b[0m\u001b[0m\n\u001b[0;32m   2423\u001b[0m                     \u001b[0mdriver\u001b[0m\u001b[1;33m.\u001b[0m\u001b[0mrun_once\u001b[0m\u001b[1;33m(\u001b[0m\u001b[1;33m)\u001b[0m\u001b[1;33m\u001b[0m\u001b[1;33m\u001b[0m\u001b[0m\n\u001b[0;32m   2424\u001b[0m \u001b[1;33m\u001b[0m\u001b[0m\n\u001b[0;32m   2425\u001b[0m             \u001b[1;32melse\u001b[0m\u001b[1;33m:\u001b[0m\u001b[1;33m\u001b[0m\u001b[1;33m\u001b[0m\u001b[0m\n\u001b[1;32m-> 2426\u001b[1;33m                 \u001b[0mself\u001b[0m\u001b[1;33m.\u001b[0m\u001b[0mrun_children_drivers\u001b[0m\u001b[1;33m(\u001b[0m\u001b[1;33m)\u001b[0m\u001b[1;33m\u001b[0m\u001b[1;33m\u001b[0m\u001b[0m\n\u001b[0m\u001b[0;32m   2427\u001b[0m \u001b[1;33m\u001b[0m\u001b[0m\n\u001b[0;32m   2428\u001b[0m             \u001b[1;32mif\u001b[0m \u001b[0mis_master\u001b[0m\u001b[1;33m:\u001b[0m\u001b[1;33m\u001b[0m\u001b[1;33m\u001b[0m\u001b[0m\n\u001b[0;32m   2429\u001b[0m                 \u001b[0mlogger\u001b[0m\u001b[1;33m.\u001b[0m\u001b[0mdebug\u001b[0m\u001b[1;33m(\u001b[0m\u001b[1;34m\"Start clean_run recursive calls.\"\u001b[0m\u001b[1;33m)\u001b[0m\u001b[1;33m\u001b[0m\u001b[1;33m\u001b[0m\u001b[0m\n",
      "\u001b[1;32m~\\micromamba\\envs\\twiinit-demos\\Lib\\site-packages\\cosapp\\systems\\system.py\u001b[0m in \u001b[0;36m?\u001b[1;34m(self)\u001b[0m\n\u001b[0;32m   2470\u001b[0m \u001b[1;33m\u001b[0m\u001b[0m\n\u001b[0;32m   2471\u001b[0m                     \u001b[1;32mif\u001b[0m \u001b[0mdirty_inputs\u001b[0m \u001b[1;32mor\u001b[0m \u001b[0many_dirty_child\u001b[0m\u001b[1;33m:\u001b[0m\u001b[1;33m\u001b[0m\u001b[1;33m\u001b[0m\u001b[0m\n\u001b[0;32m   2472\u001b[0m                         \u001b[0mself\u001b[0m\u001b[1;33m.\u001b[0m\u001b[0m_compute_calls\u001b[0m \u001b[1;33m+=\u001b[0m \u001b[1;36m1\u001b[0m\u001b[1;33m\u001b[0m\u001b[1;33m\u001b[0m\u001b[0m\n\u001b[0;32m   2473\u001b[0m                         \u001b[1;32mwith\u001b[0m \u001b[0mself\u001b[0m\u001b[1;33m.\u001b[0m\u001b[0m__context_lock\u001b[0m\u001b[1;33m:\u001b[0m\u001b[1;33m\u001b[0m\u001b[1;33m\u001b[0m\u001b[0m\n\u001b[1;32m-> 2474\u001b[1;33m                             \u001b[0mself\u001b[0m\u001b[1;33m.\u001b[0m\u001b[0m__runner\u001b[0m\u001b[1;33m.\u001b[0m\u001b[0mcompute\u001b[0m\u001b[1;33m(\u001b[0m\u001b[1;33m)\u001b[0m\u001b[1;33m\u001b[0m\u001b[1;33m\u001b[0m\u001b[0m\n\u001b[0m\u001b[0;32m   2475\u001b[0m                     \u001b[1;32melse\u001b[0m\u001b[1;33m:\u001b[0m\u001b[1;33m\u001b[0m\u001b[1;33m\u001b[0m\u001b[0m\n\u001b[0;32m   2476\u001b[0m                         \u001b[0mlogger\u001b[0m\u001b[1;33m.\u001b[0m\u001b[0mdebug\u001b[0m\u001b[1;33m(\u001b[0m\u001b[1;33mf\"\u001b[0m\u001b[1;33mSkip \u001b[0m\u001b[1;33m{\u001b[0m\u001b[0mself\u001b[0m\u001b[1;33m.\u001b[0m\u001b[0mname\u001b[0m\u001b[1;33m}\u001b[0m\u001b[1;33m.compute - Clean inputs\u001b[0m\u001b[1;33m\"\u001b[0m\u001b[1;33m)\u001b[0m\u001b[1;33m\u001b[0m\u001b[1;33m\u001b[0m\u001b[0m\n\u001b[0;32m   2477\u001b[0m \u001b[1;33m\u001b[0m\u001b[0m\n",
      "\u001b[1;32m~\\Documents\\Applications\\Cosapp\\Applications\\demos\\twiinit_demos\\cpu\\systems\\rotor_geometry.py\u001b[0m in \u001b[0;36m?\u001b[1;34m(self)\u001b[0m\n\u001b[0;32m     59\u001b[0m         \u001b[0mfaces\u001b[0m \u001b[1;33m=\u001b[0m \u001b[0mExploreSubshapes\u001b[0m\u001b[1;33m.\u001b[0m\u001b[0mget_faces\u001b[0m\u001b[1;33m(\u001b[0m\u001b[0mmoyeu\u001b[0m\u001b[1;33m)\u001b[0m\u001b[1;33m\u001b[0m\u001b[1;33m\u001b[0m\u001b[0m\n\u001b[0;32m     60\u001b[0m \u001b[1;33m\u001b[0m\u001b[0m\n\u001b[0;32m     61\u001b[0m         \u001b[0mto_remove\u001b[0m \u001b[1;33m=\u001b[0m \u001b[1;33m[\u001b[0m\u001b[1;33m]\u001b[0m\u001b[1;33m\u001b[0m\u001b[1;33m\u001b[0m\u001b[0m\n\u001b[0;32m     62\u001b[0m         \u001b[1;32mfor\u001b[0m \u001b[0mf\u001b[0m \u001b[1;32min\u001b[0m \u001b[0mfaces\u001b[0m\u001b[1;33m:\u001b[0m\u001b[1;33m\u001b[0m\u001b[1;33m\u001b[0m\u001b[0m\n\u001b[1;32m---> 63\u001b[1;33m             \u001b[0mg\u001b[0m \u001b[1;33m=\u001b[0m \u001b[0mGeom_Plane\u001b[0m\u001b[1;33m.\u001b[0m\u001b[0mDownCast\u001b[0m\u001b[1;33m(\u001b[0m\u001b[0mBRep_Tool\u001b[0m\u001b[1;33m.\u001b[0m\u001b[0mSurface\u001b[0m\u001b[1;33m(\u001b[0m\u001b[0mf\u001b[0m\u001b[1;33m)\u001b[0m\u001b[1;33m)\u001b[0m\u001b[1;33m\u001b[0m\u001b[1;33m\u001b[0m\u001b[0m\n\u001b[0m\u001b[0;32m     64\u001b[0m             \u001b[1;32mif\u001b[0m \u001b[0mg\u001b[0m \u001b[1;32mand\u001b[0m \u001b[0mg\u001b[0m\u001b[1;33m.\u001b[0m\u001b[0mLocation\u001b[0m\u001b[1;33m(\u001b[0m\u001b[1;33m)\u001b[0m\u001b[1;33m.\u001b[0m\u001b[0mX\u001b[0m\u001b[1;33m(\u001b[0m\u001b[1;33m)\u001b[0m \u001b[1;33m>\u001b[0m \u001b[0mx0\u001b[0m\u001b[1;33m:\u001b[0m\u001b[1;33m\u001b[0m\u001b[1;33m\u001b[0m\u001b[0m\n\u001b[0;32m     65\u001b[0m                 \u001b[0mto_remove\u001b[0m\u001b[1;33m.\u001b[0m\u001b[0mappend\u001b[0m\u001b[1;33m(\u001b[0m\u001b[0mf\u001b[0m\u001b[1;33m)\u001b[0m\u001b[1;33m\u001b[0m\u001b[1;33m\u001b[0m\u001b[0m\n\u001b[0;32m     66\u001b[0m \u001b[1;33m\u001b[0m\u001b[0m\n",
      "\u001b[1;32m~\\micromamba\\envs\\twiinit-demos\\Lib\\site-packages\\OCC\\Core\\Geom.py\u001b[0m in \u001b[0;36m?\u001b[1;34m(t)\u001b[0m\n\u001b[0;32m  10117\u001b[0m     \u001b[1;33m@\u001b[0m\u001b[0mstaticmethod\u001b[0m\u001b[1;33m\u001b[0m\u001b[1;33m\u001b[0m\u001b[0m\n\u001b[0;32m  10118\u001b[0m     \u001b[1;32mdef\u001b[0m \u001b[0mDownCast\u001b[0m\u001b[1;33m(\u001b[0m\u001b[0mt\u001b[0m\u001b[1;33m)\u001b[0m\u001b[1;33m:\u001b[0m\u001b[1;33m\u001b[0m\u001b[1;33m\u001b[0m\u001b[0m\n\u001b[1;32m> 10119\u001b[1;33m       \u001b[1;32mreturn\u001b[0m \u001b[0mHandle_Geom_Plane_DownCast\u001b[0m\u001b[1;33m(\u001b[0m\u001b[0mt\u001b[0m\u001b[1;33m)\u001b[0m\u001b[1;33m\u001b[0m\u001b[1;33m\u001b[0m\u001b[0m\n\u001b[0m",
      "\u001b[1;32m~\\micromamba\\envs\\twiinit-demos\\Lib\\site-packages\\OCC\\Core\\Geom.py\u001b[0m in \u001b[0;36m?\u001b[1;34m(t)\u001b[0m\n\u001b[0;32m    701\u001b[0m \u001b[1;32mdef\u001b[0m \u001b[0mHandle_Geom_Plane_DownCast\u001b[0m\u001b[1;33m(\u001b[0m\u001b[0mt\u001b[0m\u001b[1;33m)\u001b[0m\u001b[1;33m:\u001b[0m\u001b[1;33m\u001b[0m\u001b[1;33m\u001b[0m\u001b[0m\n\u001b[1;32m--> 702\u001b[1;33m     \u001b[1;32mreturn\u001b[0m \u001b[0m_Geom\u001b[0m\u001b[1;33m.\u001b[0m\u001b[0mHandle_Geom_Plane_DownCast\u001b[0m\u001b[1;33m(\u001b[0m\u001b[0mt\u001b[0m\u001b[1;33m)\u001b[0m\u001b[1;33m\u001b[0m\u001b[1;33m\u001b[0m\u001b[0m\n\u001b[0m",
      "\u001b[1;31mSystemError\u001b[0m: <built-in function Handle_Geom_Plane_DownCast> returned a result with an exception set"
     ]
    }
   ],
   "source": [
    "blade.height_over_chord = 1.3\n",
    "blade.q_factor = 1.\n",
    "blade.max_thickness_position = 0.3\n",
    "blade.max_thickness_ratio = 0.1\n",
    "blade.leading_tension = 1.\n",
    "blade.trailing_tension = 1.\n",
    "blade.inlet_angle = 80.\n",
    "blade.exit_angle = 60.\n",
    "blade.stacking_parameter = 0.\n",
    "blade.stacking_angle = 0.\n",
    "blade.swirl = 25.\n",
    "\n",
    "casing.thickness_ratio = 0.03\n",
    "casing.min_thickness = 0.002\n",
    "casing.clearance_ratio = 0.02\n",
    "casing.min_clearance = 0.005\n",
    "casing.struts_clearance_ratio = 0.05\n",
    "\n",
    "rotor.count = 7\n",
    "\n",
    "f = 1.\n",
    "fan.tip_radius = 0.1 / f\n",
    "fan.hub_to_tip_ratio = 0.4\n",
    "fan.factor = 10. * f * 1.\n",
    "\n",
    "fan.run_drivers()\n",
    "\n",
    "render_row.linear_deflection = 0.15\n",
    "render_row.angular_deflection = 0.15\n",
    "render_row2d.linear_deflection = 0.15\n",
    "render_row2d.angular_deflection = 0.15\n",
    "\n",
    "render.update_shape(fan.geometry.shape, uid=\"blade\");\n",
    "render2d.update_shape(fan.geometry.shape, uid=\"blade\");"
   ]
  },
  {
   "cell_type": "code",
   "execution_count": null,
   "id": "82e4cfa7-a6cd-48c6-93dc-c696ef7b19d8",
   "metadata": {},
   "outputs": [],
   "source": [
    "# start interface viewer\n",
    "from cosapp_lab.widgets import SysExplorer\n",
    "\n",
    "a = SysExplorer(fan, template = \"parametric_geom_dashboard.json\", anchor = \"tab-after\")"
   ]
  }
 ],
 "metadata": {
  "kernelspec": {
   "display_name": "Python [conda env:twiinit-demos] *",
   "language": "python",
   "name": "conda-env-twiinit-demos-py"
  },
  "language_info": {
   "codemirror_mode": {
    "name": "ipython",
    "version": 3
   },
   "file_extension": ".py",
   "mimetype": "text/x-python",
   "name": "python",
   "nbconvert_exporter": "python",
   "pygments_lexer": "ipython3",
   "version": "3.12.7"
  }
 },
 "nbformat": 4,
 "nbformat_minor": 5
}
