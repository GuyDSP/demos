{
 "cells": [
  {
   "cell_type": "code",
   "execution_count": null,
   "id": "56d5b321-2d63-40fc-9134-649a98729e38",
   "metadata": {},
   "outputs": [],
   "source": [
    "from pipe import Pipe\n",
    "\n",
    "p = Pipe(\"p\")\n",
    "p._cad_repr_()"
   ]
  },
  {
   "cell_type": "code",
   "execution_count": null,
   "id": "c7dc41ad-edc2-485e-b897-6ae9feca0c63",
   "metadata": {},
   "outputs": [],
   "source": [
    "from cosapp.drivers import LinearDoE, RunOnce\n",
    "from cosapp.recorders import DataFrameRecorder\n",
    "\n",
    "rec = DataFrameRecorder(includes=['radius', 'weight', 'pressure_loss'], hold=False)\n",
    "doe = p.add_driver(LinearDoE('doe'))\n",
    "doe.add_child(RunOnce('run'))\n",
    "doe.add_input_var(\"radius\", 0.02, 0.03, 20)\n",
    "doe.add_recorder(rec)\n",
    "\n",
    "p.run_drivers()"
   ]
  },
  {
   "cell_type": "code",
   "execution_count": null,
   "id": "be0bacc2-840e-47a1-942b-ff4d8bafffae",
   "metadata": {},
   "outputs": [],
   "source": [
    "rec.data"
   ]
  },
  {
   "cell_type": "code",
   "execution_count": null,
   "id": "1a7ee9e0-5b6a-43c3-ad2a-18af1aeabef2",
   "metadata": {},
   "outputs": [],
   "source": [
    "import plotly.graph_objs as go\n",
    "import numpy as np\n",
    "\n",
    "\n",
    "radius = np.asarray(rec.data['radius'])\n",
    "go.Figure(\n",
    "    data = [\n",
    "        go.Scatter(\n",
    "            x = radius,\n",
    "            y = rec.data['pressure_loss'],\n",
    "            mode = 'markers+lines',\n",
    "            marker_color = \"blue\",\n",
    "            marker_size = 10,\n",
    "            name = 'pressure loss',\n",
    "            yaxis = \"y1\",\n",
    "        ),\n",
    "        go.Scatter(\n",
    "            x = radius,\n",
    "            y = rec.data['weight'],\n",
    "            mode = 'markers+lines',\n",
    "            marker_color = \"red\",\n",
    "            marker_size = 10,\n",
    "            name = 'weight',\n",
    "            yaxis = \"y2\",\n",
    "        ),\n",
    "    ],\n",
    "    layout = go.Layout(\n",
    "        title = {'text': 'Pipe design analysis', 'font': {'size': 34}, 'x': 0.5},\n",
    "        width = 1200,\n",
    "        height = 600,\n",
    "        xaxis = {'title': {'text': 'radius (m)', 'font': {'size': 20}}, 'gridcolor': '#EBF0F8'},\n",
    "        yaxis = {'title': {'text': 'pressure loss (-)', 'font': {'size': 20}}, 'gridcolor': '#EBF0F8'},\n",
    "        yaxis2 = {'title': {'text': 'weight (kg)', 'font': {'size': 20}}, 'side': \"right\", 'gridcolor': '#EBF0F8', \"overlaying\": \"y\"},\n",
    "        legend = {'x': 0.85, 'y': 0.25, 'font': {'size': 20}, 'orientation': 'h', 'xanchor': 'center'},\n",
    "        plot_bgcolor = 'white',\n",
    "        hovermode = 'x',\n",
    "    )\n",
    ")"
   ]
  }
 ],
 "metadata": {
  "kernelspec": {
   "display_name": "Python 3 (ipykernel)",
   "language": "python",
   "name": "python3"
  },
  "language_info": {
   "codemirror_mode": {
    "name": "ipython",
    "version": 3
   },
   "file_extension": ".py",
   "mimetype": "text/x-python",
   "name": "python",
   "nbconvert_exporter": "python",
   "pygments_lexer": "ipython3",
   "version": "3.9.12"
  }
 },
 "nbformat": 4,
 "nbformat_minor": 5
}
